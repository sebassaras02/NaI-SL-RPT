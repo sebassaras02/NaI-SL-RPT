{
 "cells": [
  {
   "cell_type": "markdown",
   "source": [
    "Machine Learning Application to reduce the noise in RPT"
   ],
   "metadata": {
    "collapsed": false,
    "pycharm": {
     "name": "#%% md\n"
    }
   }
  },
  {
   "cell_type": "code",
   "execution_count": 2,
   "outputs": [],
   "source": [
    "# import modules\n",
    "import numpy as np\n",
    "import pandas as pd\n",
    "import matplotlib.pyplot as plt"
   ],
   "metadata": {
    "collapsed": false,
    "pycharm": {
     "name": "#%%\n"
    }
   }
  },
  {
   "cell_type": "code",
   "metadata": {
    "collapsed": true,
    "pycharm": {
     "name": "#%%\n"
    }
   },
   "source": [
    "# load all the data in np array\n",
    "files=np.arange(1,28,1, dtype=int)\n",
    "nom_file=[]\n",
    "for i in range(len(files)):\n",
    "    nom_file.append('pose'+str(files[i]))\n",
    "data_d1=[];data_d2=[]\n",
    "data_o1=[];data_o2=[];data_o3=[];data_o4=[];data_o5=[]\n",
    "for i in range(len(files)):\n",
    "    data_d1.append(np.loadtxt('./experimental/DAQ/DAQ5mms_500/'+nom_file[i]+'.dat'))\n",
    "#    data_d2.append(np.loadtxt('./experimental/DAQ/DAQ60mms_50/'+nom_file[i]+'_v2.dat'))\n",
    "#    data_o1.append(np.loadtxt('./experimental/Osc/2mms_400ms/'+nom_file[i]+'_ov1.dat'))\n",
    "#    data_o2.append(np.loadtxt('./experimental/Osc/5mms_200ms/'+nom_file[i]+'_ov2.dat'))\n",
    "#    data_o3.append(np.loadtxt('./experimental/Osc/10mms_100ms/'+nom_file[i]+'_ov3.dat'))\n",
    "#    data_o4.append(np.loadtxt('./experimental/Osc/25mms_40ms/'+nom_file[i]+'_ov4.dat'))\n",
    "#    data_o5.append(np.loadtxt('./experimental/Osc/60mms_20ms/'+nom_file[i]+'_ov5.dat'))"
   ],
   "execution_count": 18,
   "outputs": []
  },
  {
   "cell_type": "code",
   "execution_count": 43,
   "outputs": [
    {
     "ename": "ValueError",
     "evalue": "could not broadcast input array from shape (36,2) into shape (37,2)",
     "output_type": "error",
     "traceback": [
      "\u001B[1;31m---------------------------------------------------------------------------\u001B[0m",
      "\u001B[1;31mValueError\u001B[0m                                Traceback (most recent call last)",
      "\u001B[1;32m~\\AppData\\Local\\Temp/ipykernel_10768/3876153677.py\u001B[0m in \u001B[0;36m<module>\u001B[1;34m\u001B[0m\n\u001B[0;32m      2\u001B[0m \u001B[0ma1\u001B[0m\u001B[1;33m.\u001B[0m\u001B[0mshape\u001B[0m\u001B[1;33m\u001B[0m\u001B[1;33m\u001B[0m\u001B[0m\n\u001B[0;32m      3\u001B[0m \u001B[0ma2\u001B[0m\u001B[1;33m=\u001B[0m\u001B[0mnp\u001B[0m\u001B[1;33m.\u001B[0m\u001B[0mzeros\u001B[0m\u001B[1;33m(\u001B[0m\u001B[1;33m(\u001B[0m\u001B[1;36m27\u001B[0m\u001B[1;33m,\u001B[0m\u001B[1;36m37\u001B[0m\u001B[1;33m,\u001B[0m\u001B[1;36m2\u001B[0m\u001B[1;33m)\u001B[0m\u001B[1;33m)\u001B[0m\u001B[1;33m\u001B[0m\u001B[1;33m\u001B[0m\u001B[0m\n\u001B[1;32m----> 4\u001B[1;33m \u001B[0ma2\u001B[0m\u001B[1;33m[\u001B[0m\u001B[1;36m1\u001B[0m\u001B[1;33m]\u001B[0m\u001B[1;33m=\u001B[0m\u001B[0ma1\u001B[0m\u001B[1;33m\u001B[0m\u001B[1;33m\u001B[0m\u001B[0m\n\u001B[0m\u001B[0;32m      5\u001B[0m \u001B[0ma2\u001B[0m\u001B[1;33m.\u001B[0m\u001B[0mshape\u001B[0m\u001B[1;33m\u001B[0m\u001B[1;33m\u001B[0m\u001B[0m\n",
      "\u001B[1;31mValueError\u001B[0m: could not broadcast input array from shape (36,2) into shape (37,2)"
     ]
    }
   ],
   "source": [
    "a1=np.array(np.loadtxt('./experimental/DAQ/DAQ5mms_500/'+nom_file[26]+'.dat'))\n",
    "a1.shape\n",
    "a2=np.zeros((27,37,2))\n",
    "a2[1]=a1\n",
    "a2.shape"
   ],
   "metadata": {
    "collapsed": false,
    "pycharm": {
     "name": "#%%\n"
    }
   }
  },
  {
   "cell_type": "code",
   "execution_count": null,
   "outputs": [],
   "source": [],
   "metadata": {
    "collapsed": false,
    "pycharm": {
     "name": "#%%\n"
    }
   }
  }
 ],
 "metadata": {
  "kernelspec": {
   "display_name": "Python 3",
   "language": "python",
   "name": "python3"
  },
  "language_info": {
   "codemirror_mode": {
    "name": "ipython",
    "version": 2
   },
   "file_extension": ".py",
   "mimetype": "text/x-python",
   "name": "python",
   "nbconvert_exporter": "python",
   "pygments_lexer": "ipython2",
   "version": "2.7.6"
  }
 },
 "nbformat": 4,
 "nbformat_minor": 0
}