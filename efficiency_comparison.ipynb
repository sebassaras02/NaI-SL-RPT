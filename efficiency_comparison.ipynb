{
 "cells": [
  {
   "cell_type": "markdown",
   "metadata": {},
   "source": [
    "# COMPARACION EFICIENCIA EXPERIMENTAL Y SIMULADA"
   ]
  },
  {
   "cell_type": "code",
   "execution_count": 1,
   "metadata": {},
   "outputs": [],
   "source": [
    "# Se importan las librerias necesarias para trabajar y las funciones del archivo detectores_funciones\n",
    "import numpy as np\n",
    "import matplotlib.pyplot as plt\n",
    "import pandas as pd\n",
    "from d_funciones import netcount, spectrum, normalizar_exp"
   ]
  },
  {
   "cell_type": "code",
   "execution_count": 2,
   "metadata": {},
   "outputs": [
    {
     "ename": "OSError",
     "evalue": "NaIDetector_5cm_cs137.dat not found.",
     "output_type": "error",
     "traceback": [
      "\u001B[1;31m---------------------------------------------------------------------------\u001B[0m",
      "\u001B[1;31mOSError\u001B[0m                                   Traceback (most recent call last)",
      "\u001B[1;32m~\\AppData\\Local\\Temp/ipykernel_17448/2256404777.py\u001B[0m in \u001B[0;36m<module>\u001B[1;34m\u001B[0m\n\u001B[0;32m      2\u001B[0m \u001B[0mcs_e\u001B[0m\u001B[1;33m=\u001B[0m\u001B[0mnp\u001B[0m\u001B[1;33m.\u001B[0m\u001B[0mloadtxt\u001B[0m\u001B[1;33m(\u001B[0m\u001B[1;34m\"./exp/DetectorNaI30mar21-Cs137-5cm-45min.TKA\"\u001B[0m\u001B[1;33m)\u001B[0m\u001B[1;33m\u001B[0m\u001B[1;33m\u001B[0m\u001B[0m\n\u001B[0;32m      3\u001B[0m \u001B[0mbk\u001B[0m\u001B[1;33m=\u001B[0m\u001B[0mnp\u001B[0m\u001B[1;33m.\u001B[0m\u001B[0mloadtxt\u001B[0m\u001B[1;33m(\u001B[0m\u001B[1;34m\"./exp/DetectorNaI21oct20fondo2hFuer.txt\"\u001B[0m\u001B[1;33m)\u001B[0m\u001B[1;33m\u001B[0m\u001B[1;33m\u001B[0m\u001B[0m\n\u001B[1;32m----> 4\u001B[1;33m \u001B[0mcs_s\u001B[0m\u001B[1;33m=\u001B[0m\u001B[0mnp\u001B[0m\u001B[1;33m.\u001B[0m\u001B[0mloadtxt\u001B[0m\u001B[1;33m(\u001B[0m\u001B[1;34m\"NaIDetector_5cm_cs137.dat\"\u001B[0m\u001B[1;33m)\u001B[0m\u001B[1;33m\u001B[0m\u001B[1;33m\u001B[0m\u001B[0m\n\u001B[0m\u001B[0;32m      5\u001B[0m \u001B[0mcs_s\u001B[0m\u001B[1;33m=\u001B[0m\u001B[0mnp\u001B[0m\u001B[1;33m.\u001B[0m\u001B[0mhistogram\u001B[0m\u001B[1;33m(\u001B[0m\u001B[0mcs_s\u001B[0m\u001B[1;33m,\u001B[0m\u001B[0mbins\u001B[0m\u001B[1;33m=\u001B[0m\u001B[1;36m500\u001B[0m\u001B[1;33m)\u001B[0m\u001B[1;33m\u001B[0m\u001B[1;33m\u001B[0m\u001B[0m\n",
      "\u001B[1;32mC:\\ProgramData\\Anaconda3\\lib\\site-packages\\numpy\\lib\\npyio.py\u001B[0m in \u001B[0;36mloadtxt\u001B[1;34m(fname, dtype, comments, delimiter, converters, skiprows, usecols, unpack, ndmin, encoding, max_rows, like)\u001B[0m\n\u001B[0;32m   1063\u001B[0m             \u001B[0mfname\u001B[0m \u001B[1;33m=\u001B[0m \u001B[0mos_fspath\u001B[0m\u001B[1;33m(\u001B[0m\u001B[0mfname\u001B[0m\u001B[1;33m)\u001B[0m\u001B[1;33m\u001B[0m\u001B[1;33m\u001B[0m\u001B[0m\n\u001B[0;32m   1064\u001B[0m         \u001B[1;32mif\u001B[0m \u001B[0m_is_string_like\u001B[0m\u001B[1;33m(\u001B[0m\u001B[0mfname\u001B[0m\u001B[1;33m)\u001B[0m\u001B[1;33m:\u001B[0m\u001B[1;33m\u001B[0m\u001B[1;33m\u001B[0m\u001B[0m\n\u001B[1;32m-> 1065\u001B[1;33m             \u001B[0mfh\u001B[0m \u001B[1;33m=\u001B[0m \u001B[0mnp\u001B[0m\u001B[1;33m.\u001B[0m\u001B[0mlib\u001B[0m\u001B[1;33m.\u001B[0m\u001B[0m_datasource\u001B[0m\u001B[1;33m.\u001B[0m\u001B[0mopen\u001B[0m\u001B[1;33m(\u001B[0m\u001B[0mfname\u001B[0m\u001B[1;33m,\u001B[0m \u001B[1;34m'rt'\u001B[0m\u001B[1;33m,\u001B[0m \u001B[0mencoding\u001B[0m\u001B[1;33m=\u001B[0m\u001B[0mencoding\u001B[0m\u001B[1;33m)\u001B[0m\u001B[1;33m\u001B[0m\u001B[1;33m\u001B[0m\u001B[0m\n\u001B[0m\u001B[0;32m   1066\u001B[0m             \u001B[0mfencoding\u001B[0m \u001B[1;33m=\u001B[0m \u001B[0mgetattr\u001B[0m\u001B[1;33m(\u001B[0m\u001B[0mfh\u001B[0m\u001B[1;33m,\u001B[0m \u001B[1;34m'encoding'\u001B[0m\u001B[1;33m,\u001B[0m \u001B[1;34m'latin1'\u001B[0m\u001B[1;33m)\u001B[0m\u001B[1;33m\u001B[0m\u001B[1;33m\u001B[0m\u001B[0m\n\u001B[0;32m   1067\u001B[0m             \u001B[0mfh\u001B[0m \u001B[1;33m=\u001B[0m \u001B[0miter\u001B[0m\u001B[1;33m(\u001B[0m\u001B[0mfh\u001B[0m\u001B[1;33m)\u001B[0m\u001B[1;33m\u001B[0m\u001B[1;33m\u001B[0m\u001B[0m\n",
      "\u001B[1;32mC:\\ProgramData\\Anaconda3\\lib\\site-packages\\numpy\\lib\\_datasource.py\u001B[0m in \u001B[0;36mopen\u001B[1;34m(path, mode, destpath, encoding, newline)\u001B[0m\n\u001B[0;32m    192\u001B[0m \u001B[1;33m\u001B[0m\u001B[0m\n\u001B[0;32m    193\u001B[0m     \u001B[0mds\u001B[0m \u001B[1;33m=\u001B[0m \u001B[0mDataSource\u001B[0m\u001B[1;33m(\u001B[0m\u001B[0mdestpath\u001B[0m\u001B[1;33m)\u001B[0m\u001B[1;33m\u001B[0m\u001B[1;33m\u001B[0m\u001B[0m\n\u001B[1;32m--> 194\u001B[1;33m     \u001B[1;32mreturn\u001B[0m \u001B[0mds\u001B[0m\u001B[1;33m.\u001B[0m\u001B[0mopen\u001B[0m\u001B[1;33m(\u001B[0m\u001B[0mpath\u001B[0m\u001B[1;33m,\u001B[0m \u001B[0mmode\u001B[0m\u001B[1;33m,\u001B[0m \u001B[0mencoding\u001B[0m\u001B[1;33m=\u001B[0m\u001B[0mencoding\u001B[0m\u001B[1;33m,\u001B[0m \u001B[0mnewline\u001B[0m\u001B[1;33m=\u001B[0m\u001B[0mnewline\u001B[0m\u001B[1;33m)\u001B[0m\u001B[1;33m\u001B[0m\u001B[1;33m\u001B[0m\u001B[0m\n\u001B[0m\u001B[0;32m    195\u001B[0m \u001B[1;33m\u001B[0m\u001B[0m\n\u001B[0;32m    196\u001B[0m \u001B[1;33m\u001B[0m\u001B[0m\n",
      "\u001B[1;32mC:\\ProgramData\\Anaconda3\\lib\\site-packages\\numpy\\lib\\_datasource.py\u001B[0m in \u001B[0;36mopen\u001B[1;34m(self, path, mode, encoding, newline)\u001B[0m\n\u001B[0;32m    529\u001B[0m                                       encoding=encoding, newline=newline)\n\u001B[0;32m    530\u001B[0m         \u001B[1;32melse\u001B[0m\u001B[1;33m:\u001B[0m\u001B[1;33m\u001B[0m\u001B[1;33m\u001B[0m\u001B[0m\n\u001B[1;32m--> 531\u001B[1;33m             \u001B[1;32mraise\u001B[0m \u001B[0mIOError\u001B[0m\u001B[1;33m(\u001B[0m\u001B[1;34m\"%s not found.\"\u001B[0m \u001B[1;33m%\u001B[0m \u001B[0mpath\u001B[0m\u001B[1;33m)\u001B[0m\u001B[1;33m\u001B[0m\u001B[1;33m\u001B[0m\u001B[0m\n\u001B[0m\u001B[0;32m    532\u001B[0m \u001B[1;33m\u001B[0m\u001B[0m\n\u001B[0;32m    533\u001B[0m \u001B[1;33m\u001B[0m\u001B[0m\n",
      "\u001B[1;31mOSError\u001B[0m: NaIDetector_5cm_cs137.dat not found."
     ]
    }
   ],
   "source": [
    "# se cargan los archivos\n",
    "cs_e=np.loadtxt(\"./exp/DetectorNaI30mar21-Cs137-5cm-45min.TKA\")\n",
    "bk=np.loadtxt(\"./exp/DetectorNaI21oct20fondo2hFuer.txt\")\n",
    "cs_s=np.loadtxt(\"NaIDetector_5cm_cs137.dat\")\n",
    "cs_s=np.histogram(cs_s,bins=500)"
   ]
  },
  {
   "cell_type": "code",
   "execution_count": null,
   "metadata": {
    "scrolled": true
   },
   "outputs": [],
   "source": [
    "# se agrega la resolucion al histograma \n",
    "cs_s_r=spectrum(cs_s[1],cs_s[0],0.026)\n",
    "fig1=plt.figure(figsize=(5,5))\n",
    "ax1=plt.axes()\n",
    "ax1.plot(cs_s_r[0],cs_s_r[1])\n",
    "plt.xlabel(\"Energy (MeV)\")\n",
    "plt.ylabel(\"Counts\")\n",
    "plt.grid()\n",
    "print(np.trapz(cs_s[0],cs_s[1][0:500]))\n",
    "plt.savefig(\"simulation_cs137_res.pdf\")"
   ]
  },
  {
   "cell_type": "code",
   "execution_count": null,
   "metadata": {},
   "outputs": [],
   "source": [
    "# se determina el conteo neto\n",
    "cs_e1=netcount(cs_e,bk)"
   ]
  },
  {
   "cell_type": "code",
   "execution_count": null,
   "metadata": {},
   "outputs": [],
   "source": [
    "#CREACION DE LOS CANALES Y LAS ENERGIAS\n",
    "canal=np.linspace(1,len(cs_e1),len(cs_e1))\n",
    "Energy=np.array([((i*0.2157-11.88)*0.001) for i in canal])"
   ]
  },
  {
   "cell_type": "code",
   "execution_count": null,
   "metadata": {},
   "outputs": [],
   "source": [
    "# se elimina los rayos X del espectro\n",
    "for i in range(len(cs_e1)):\n",
    "    if Energy[i]<=0.04:\n",
    "        cs_e1[i]=0\n",
    "    else:\n",
    "        cs_e1[i]=cs_e1[i]"
   ]
  },
  {
   "cell_type": "code",
   "execution_count": null,
   "metadata": {},
   "outputs": [],
   "source": [
    "# creacion de una funcion para normalizar el espectro\n",
    "def norma_exp(spectra):\n",
    "    spectra_n=np.array(spectra[0:len(spectra)])\n",
    "    s=sum(spectra_n)\n",
    "    spectra_n_n=np.array([i/s for i in spectra_n])\n",
    "    return spectra_n_n"
   ]
  },
  {
   "cell_type": "code",
   "execution_count": null,
   "metadata": {},
   "outputs": [],
   "source": [
    "# Se realiza un escalamiento de los datos\n",
    "# Se carga las actividades\n",
    "actividades=pd.read_csv(\"actividad.csv\")\n",
    "actividades=actividades.rename(columns={\"Unnamed: 0\":\"Nuclei\",\"0\":\"Activity (Bq)\"})\n",
    "actividades.head()"
   ]
  },
  {
   "cell_type": "code",
   "execution_count": null,
   "metadata": {},
   "outputs": [],
   "source": [
    "# tiempos de muestreo \n",
    "t_cs_s=(1e7)/actividades.iloc[0,1]\n",
    "t_cs_s"
   ]
  },
  {
   "cell_type": "code",
   "execution_count": null,
   "metadata": {},
   "outputs": [],
   "source": [
    "# se normaliza el espectro simulado en funcion de la actividad\n",
    "cs_s_n=cs_s_r[1]/t_cs_s"
   ]
  },
  {
   "cell_type": "code",
   "execution_count": null,
   "metadata": {},
   "outputs": [],
   "source": [
    "plt.figure(figsize=(5,5))\n",
    "plt.plot(cs_s_r[0],cs_s_n, label='Simulated')\n",
    "plt.plot(Energy, cs_e1, label='Experimental'){\n",
    " \"cells\": [\n",
    "  {\n",
    "   \"cell_type\": \"code\",\n",
    "   \"execution_count\": null,\n",
    "   \"metadata\": {},\n",
    "   \"outputs\": [],\n",
    "   \"source\": [\n",
    "    \"# Determinación de los factores de corrección de la simulación\\n\",\n",
    "    \"# Por Sebastián Sarasti\"\n",
    "   ]\n",
    "  },\n",
    "  {\n",
    "   \"cell_type\": \"code\",\n",
    "   \"execution_count\": 1,\n",
    "   \"metadata\": {},\n",
    "   \"outputs\": [],\n",
    "   \"source\": [\n",
    "    \"import numpy as np\\n\",\n",
    "    \"import pandas as pd\\n\",\n",
    "    \"import matplotlib.pyplot as plt\\n\",\n",
    "    \"from detectores_funciones import netcount, spectrum, normalizar_exp\"\n",
    "   ]\n",
    "  },\n",
    "  {\n",
    "   \"cell_type\": \"code\",\n",
    "   \"execution_count\": 3,\n",
    "   \"metadata\": {},\n",
    "   \"outputs\": [],\n",
    "   \"source\": [\n",
    "    \"# se cargan los espectros del Cs\\n\",\n",
    "    \"cs_e={'5cm':np.loadtxt('DetectorNaI30mar21-Cs137-5cm-45min.TKA'),\\n\",\n",
    "    \"      '10cm':np.loadtxt('DetectorNaI30mar21-Cs137-10cm-109min.TKA'),\\n\",\n",
    "    \"      '15cm':np.loadtxt('DetectorNaI31mar21-Cs137-15cm-217min.TKA')}\"\n",
    "   ]\n",
    "  },\n",
    "  {\n",
    "   \"cell_type\": \"code\",\n",
    "   \"execution_count\": 36,\n",
    "   \"metadata\": {},\n",
    "   \"outputs\": [\n",
    "    {\n",
    "     \"data\": {\n",
    "      \"text/plain\": [\n",
    "       \"{'5cm': 2700.0, '10cm': 6540.0, '15cm': 13020.0}\"\n",
    "      ]\n",
    "     },\n",
    "     \"execution_count\": 36,\n",
    "     \"metadata\": {},\n",
    "     \"output_type\": \"execute_result\"\n",
    "    }\n",
    "   ],\n",
    "   \"source\": [\n",
    "    \"# se extraen los tiempos de datacion\\n\",\n",
    "    \"t_cs_e={\\\"5cm\\\":0, \\\"10cm\\\":0,\\\"15cm\\\":0}\\n\",\n",
    "    \"for i in t_cs_e:\\n\",\n",
    "    \"    t_cs_e[i]=cs_e[i][1]\\n\",\n",
    "    \"t_cs_e\"\n",
    "   ]\n",
    "  },\n",
    "  {\n",
    "   \"cell_type\": \"code\",\n",
    "   \"execution_count\": 37,\n",
    "   \"metadata\": {},\n",
    "   \"outputs\": [],\n",
    "   \"source\": [\n",
    "    \"# se determina el conteo neto\\n\",\n",
    "    \"cs_e_n={'5cm':[],'10cm':[], '15cm':[]}\\n\",\n",
    "    \"bk=np.loadtxt(\\\"DetectorNaI21oct20fondo2hFuer.txt\\\")\\n\",\n",
    "    \"for i in cs_e_n:\\n\",\n",
    "    \"    cs_e_n[i]=netcount(cs_e[i],bk)\"\n",
    "   ]\n",
    "  },\n",
    "  {\n",
    "   \"cell_type\": \"code\",\n",
    "   \"execution_count\": 38,\n",
    "   \"metadata\": {},\n",
    "   \"outputs\": [],\n",
    "   \"source\": [\n",
    "    \"# se cargan los datos simulados\\n\",\n",
    "    \"cs_s={'5cm':np.loadtxt('NaIDetector_5cm_cs137.dat'),\\n\",\n",
    "    \"      '10cm':np.loadtxt('NaIDetector_10cm_Cs137.dat'),\\n\",\n",
    "    \"      '15cm':np.loadtxt('NaIDetector_15cm_Cs137.dat')}\"\n",
    "   ]\n",
    "  },\n",
    "  {\n",
    "   \"cell_type\": \"code\",\n",
    "   \"execution_count\": 40,\n",
    "   \"metadata\": {},\n",
    "   \"outputs\": [],\n",
    "   \"source\": [\n",
    "    \"# se realizan los histogramas para cada espectro simulado\\n\",\n",
    "    \"for i in cs_s:\\n\",\n",
    "    \"    cs_s[i]=np.histogram(cs_s[i],bins=500)\"\n",
    "   ]\n",
    "  },\n",
    "  {\n",
    "   \"cell_type\": \"code\",\n",
    "   \"execution_count\": 43,\n",
    "   \"metadata\": {},\n",
    "   \"outputs\": [],\n",
    "   \"source\": [\n",
    "    \"# se agrega la resolucion del sistema\\n\",\n",
    "    \"for i in cs_s:\\n\",\n",
    "    \"    cs_s[i]=spectrum(cs_s[i][1],cs_s[i][0],0.026)\"\n",
    "   ]\n",
    "  },\n",
    "  {\n",
    "   \"cell_type\": \"code\",\n",
    "   \"execution_count\": 49,\n",
    "   \"metadata\": {},\n",
    "   \"outputs\": [\n",
    "    {\n",
    "     \"data\": {\n",
    "      \"text/plain\": [\n",
    "       \"<matplotlib.legend.Legend at 0x223e5a65b80>\"\n",
    "      ]\n",
    "     },\n",
    "     \"execution_count\": 49,\n",
    "     \"metadata\": {},\n",
    "     \"output_type\": \"execute_result\"\n",
    "    },\n",
    "    {\n",
    "     \"data\": {\n",
    "      \"image/png\": \"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\\n\",\n",
    "      \"text/plain\": [\n",
    "       \"<Figure size 360x360 with 1 Axes>\"\n",
    "      ]\n",
    "     },\n",
    "     \"metadata\": {\n",
    "      \"needs_background\": \"light\"\n",
    "     },\n",
    "     \"output_type\": \"display_data\"\n",
    "    }\n",
    "   ],\n",
    "   \"source\": [\n",
    "    \"plt.figure(figsize=(5,5))\\n\",\n",
    "    \"plt.plot(cs_s['5cm'][0],cs_s['5cm'][1], label=\\\"5cm\\\")\\n\",\n",
    "    \"plt.plot(cs_s['10cm'][0],cs_s['10cm'][1],label=\\\"10cm\\\")\\n\",\n",
    "    \"plt.plot(cs_s['15cm'][0],cs_s['15cm'][1], label=\\\"15cm\\\")\\n\",\n",
    "    \"plt.legend()\"\n",
    "   ]\n",
    "  },\n",
    "  {\n",
    "   \"cell_type\": \"code\",\n",
    "   \"execution_count\": null,\n",
    "   \"metadata\": {},\n",
    "   \"outputs\": [],\n",
    "   \"source\": []\n",
    "  }\n",
    " ],\n",
    " \"metadata\": {\n",
    "  \"kernelspec\": {\n",
    "   \"display_name\": \"Python 3\",\n",
    "   \"language\": \"python\",\n",
    "   \"name\": \"python3\"\n",
    "  },\n",
    "  \"language_info\": {\n",
    "   \"codemirror_mode\": {\n",
    "    \"name\": \"ipython\",\n",
    "    \"version\": 3\n",
    "   },\n",
    "   \"file_extension\": \".py\",\n",
    "   \"mimetype\": \"text/x-python\",\n",
    "   \"name\": \"python\",\n",
    "   \"nbconvert_exporter\": \"python\",\n",
    "   \"pygments_lexer\": \"ipython3\",\n",
    "   \"version\": \"3.8.5\"\n",
    "  }\n",
    " },\n",
    " \"nbformat\": 4,\n",
    " \"nbformat_minor\": 4\n",
    "}\n",
    "\n",
    "plt.legend()"
   ]
  },
  {
   "cell_type": "code",
   "execution_count": null,
   "metadata": {},
   "outputs": [],
   "source": [
    "# se determina un factor de corrección\n",
    "max_s=max(cs_s_n)\n",
    "max_e=max(cs_e1)\n",
    "fc=max_s/max_e"
   ]
  },
  {
   "cell_type": "code",
   "execution_count": null,
   "metadata": {},
   "outputs": [],
   "source": [
    "cs_s_n=cs_s_n/fc"
   ]
  },
  {
   "cell_type": "code",
   "execution_count": null,
   "metadata": {},
   "outputs": [],
   "source": [
    "plt.figure(figsize=(5,5))\n",
    "plt.plot(cs_s_r[0],cs_s_n, 'xr',label='Simulated')\n",
    "plt.plot(Energy, cs_e1, ':b',label='Experimental')\n",
    "plt.legend()\n",
    "print(\"El factor de corrección es:\", fc)"
   ]
  },
  {
   "cell_type": "code",
   "execution_count": null,
   "metadata": {},
   "outputs": [],
   "source": [
    "import matplotlib.pyplot as plt"
   ]
  }
 ],
 "metadata": {
  "kernelspec": {
   "display_name": "Python 3",
   "language": "python",
   "name": "python3"
  },
  "language_info": {
   "codemirror_mode": {
    "name": "ipython",
    "version": 3
   },
   "file_extension": ".py",
   "mimetype": "text/x-python",
   "name": "python",
   "nbconvert_exporter": "python",
   "pygments_lexer": "ipython3",
   "version": "3.8.5"
  }
 },
 "nbformat": 4,
 "nbformat_minor": 4
}