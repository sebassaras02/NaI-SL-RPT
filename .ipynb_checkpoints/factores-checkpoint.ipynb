{
 "cells": [
  {
   "cell_type": "code",
   "execution_count": 1,
   "metadata": {},
   "outputs": [],
   "source": [
    "# Paper Simulation of NaI(Tl) detector with GEANT4, MCNP, and GATE, comparisons, and full energy peak determination\n",
    "# Data treatment \n",
    "# By: Sebastián Sarasti"
   ]
  },
  {
   "cell_type": "code",
   "execution_count": 2,
   "metadata": {},
   "outputs": [],
   "source": [
    "import numpy as np\n",
    "import pandas as pd\n",
    "import matplotlib.pyplot as plt\n",
    "from d_funciones import netcount, spectrum, normalizar_exp, area"
   ]
  },
  {
   "cell_type": "code",
   "execution_count": 3,
   "metadata": {},
   "outputs": [],
   "source": [
    "# load experimental data\n",
    "# cesium\n",
    "cs_e={'5cm':np.loadtxt('DetectorNaI30mar21-Cs137-5cm-45min.TKA'),\n",
    "      '10cm':np.loadtxt('DetectorNaI30mar21-Cs137-10cm-109min.TKA'),\n",
    "      '15cm':np.loadtxt('DetectorNaI31mar21-Cs137-15cm-217min.TKA')}\n",
    "# cobalt\n",
    "co_e={'5cm':np.loadtxt('DetectorNaI30mar21-Co60-5cm-31min.TKA'),\n",
    "      '10cm':np.loadtxt('DetectorNaI30mar21Co-60-10cm-72min.TKA'),\n",
    "      '15cm':np.loadtxt('DetectorNaI31mar21-Co-60-15cm-141min.TKA')}  \n",
    "# europium\n",
    "eu_e={'5cm':np.loadtxt('DetectorNaI30mar21Eu152-5cm-7min.TKA'),\n",
    "      '10cm':np.loadtxt('DetectorNaI30mar21Eu152-10cm-18min.TKA'),\n",
    "      '15cm':np.loadtxt('DetectorNaI31mar21-Eu152-15cm-39min.TKA')}  \n",
    "# americium\n",
    "am_e={'5cm':np.loadtxt('DetectorNaI30mar21-Am241-5cm-8min.TKA'),\n",
    "      '10cm':np.loadtxt('DetectorNaI30mar21-Am241-10cm-23min.TKA'),\n",
    "      '15cm':np.loadtxt('DetectorNaI31mar21-Am241-15cm-51min.TKA')}  "
   ]
  },
  {
   "cell_type": "code",
   "execution_count": 4,
   "metadata": {},
   "outputs": [
    {
     "data": {
      "text/plain": [
       "Text(0.05, 0.95, '$R^2=0.9999$\\n$b=-11.8845$\\n$m=0.2157$')"
      ]
     },
     "execution_count": 4,
     "metadata": {},
     "output_type": "execute_result"
    },
    {
     "data": {
      "image/png": "[encoded data removed]",
      "text/plain": [
       "<Figure size 432x432 with 1 Axes>"
      ]
     },
     "metadata": {
      "needs_background": "light"
     },
     "output_type": "display_data"
    }
   ],
   "source": [
    "#create channels and convert them to energy\n",
    "# getting calibration curve\n",
    "energia_=np.array([ 0, 40,59.5 , 122, 245, 344, 662, 779, 964, 1173, 1332, 1408])#kev\n",
    "ca=np.array([ 0 , 220, 327, 633, 1208, 1678, 3165, 3688, 4529, 5501, 6222, 6538])#channels\n",
    "from scipy import stats\n",
    "res = stats.linregress(ca, energia_)\n",
    "# save values of regression as text\n",
    "r2=res[2]\n",
    "m_=res[0]\n",
    "b_=res[1]\n",
    "textstr = '\\n'.join((\n",
    "    r'$R^2=%.4f$' % (r2, ),\n",
    "    r'$b=%.4f$' % (b_, ),\n",
    "    r'$m=%.4f$' % (m_, )))\n",
    "# plot results of regression\n",
    "fig2=plt.figure(figsize=(6,6))\n",
    "ax=plt.axes()\n",
    "trans_ca=lambda x:res[0]*x+res[1]\n",
    "plt.scatter(ca,energia_,color='r',label='Points')\n",
    "plt.plot(ca,trans_ca(ca),color='b',label='Linear Regression')\n",
    "plt.grid()\n",
    "plt.xlabel('Channels')\n",
    "plt.ylabel('Energy (keV)')\n",
    "plt.legend(loc=4)\n",
    "props = dict(boxstyle='round', facecolor='blue', alpha=0.1)\n",
    "ax.text(0.05, 0.95, textstr, transform=ax.transAxes, fontsize=14,\n",
    "        verticalalignment='top', bbox=props)"
   ]
  },
  {
   "cell_type": "code",
   "execution_count": 5,
   "metadata": {},
   "outputs": [],
   "source": [
    "# Afterwards, it was created a vector for it\n",
    "canal=np.linspace(1,8190,8190)\n",
    "Energy=np.array([((i*0.2157-11.88)*0.001) for i in canal])"
   ]
  },
  {
   "cell_type": "code",
   "execution_count": 6,
   "metadata": {},
   "outputs": [],
   "source": [
    "# get net spectra\n",
    "cs_e_n={'5cm':[],'10cm':[], '15cm':[]}\n",
    "co_e_n={'5cm':[],'10cm':[], '15cm':[]}\n",
    "eu_e_n={'5cm':[],'10cm':[], '15cm':[]}\n",
    "am_e_n={'5cm':[],'10cm':[], '15cm':[]}\n",
    "bk=np.loadtxt(\"DetectorNaI21oct20fondo2hFuer.txt\")\n",
    "for i in cs_e_n:\n",
    "    cs_e_n[i]=netcount(cs_e[i],bk)\n",
    "    co_e_n[i]=netcount(co_e[i],bk)\n",
    "    eu_e_n[i]=netcount(eu_e[i],bk)\n",
    "    am_e_n[i]=netcount(am_e[i],bk)"
   ]
  },
  {
   "cell_type": "code",
   "execution_count": 7,
   "metadata": {},
   "outputs": [
    {
     "data": {
      "text/plain": [
       "array([False, False, False, ..., False, False, False])"
      ]
     },
     "execution_count": 7,
     "metadata": {},
     "output_type": "execute_result"
    }
   ],
   "source": [
    "# verify that each dictionary is different\n",
    "am_e_n['5cm']==cs_e_n['5cm']"
   ]
  },
  {
   "cell_type": "code",
   "execution_count": 8,
   "metadata": {},
   "outputs": [],
   "source": [
    "# determination of theoretical activity per each source\n",
    "import radioactivedecay as rd\n",
    "from datetime import datetime, date, time, timedelta\n",
    "import calendar\n",
    "hl=[]\n",
    "hl.append(rd.DEFAULTDATA.half_life('Cs-137','d'))\n",
    "hl.append(rd.DEFAULTDATA.half_life('Eu-152','d'))\n",
    "hl.append(rd.DEFAULTDATA.half_life('Co-60','d')) \n",
    "hl.append(rd.DEFAULTDATA.half_life('Am-241','d'))       \n",
    "# Determination of days between the initial time and the date of the measurement are calculated\n",
    "formato_fecha = \"%d-%m-%Y\"\n",
    "# days for Cs137\n",
    "fecha_inicial = datetime.strptime(\"01-05-2015\",formato_fecha)\n",
    "fecha_final = datetime.strptime(\"30-03-2021\",formato_fecha)\n",
    "diferencia=[]\n",
    "diferencia.append(fecha_final - fecha_inicial)\n",
    "# days for  Eu152\n",
    "fecha_inicial = datetime.strptime(\"01-06-2015\", formato_fecha)\n",
    "fecha_final = datetime.strptime(\"30-03-2021\",formato_fecha)\n",
    "diferencia.append((fecha_final - fecha_inicial))\n",
    "# days for Co60\n",
    "fecha_inicial = datetime.strptime(\"01-06-2015\",formato_fecha)\n",
    "fecha_final = datetime.strptime(\"30-03-2021\",formato_fecha)\n",
    "diferencia.append((fecha_final - fecha_inicial))\n",
    "# days for Am-241\n",
    "fecha_inicial = datetime.strptime(\"01-04-1988\", formato_fecha)\n",
    "fecha_final = datetime.strptime(\"30-03-2021\",formato_fecha)\n",
    "diferencia.append((fecha_final - fecha_inicial))\n",
    "# difference in days\n",
    "diferencia=[diferencia[i].days for i in range(len(diferencia))]\n",
    "# initial activities in uCi\n",
    "act0=[0.25, 1, 1, 1.054]\n",
    "# determination of final activities\n",
    "actf=[act0[i]*np.exp(-np.log(2)*diferencia[i]/hl[i]) for i in range(len(act0))]   \n",
    "actf=[actividad*37000 for actividad in actf]\n",
    "activi=pd.Series(data=actf,index=(\"Cs-137\",\"Eu-152\",\"Co-60\",\"Am-241\") )"
   ]
  },
  {
   "cell_type": "code",
   "execution_count": 9,
   "metadata": {},
   "outputs": [
    {
     "data": {
      "text/plain": [
       "Cs-137     8074.740119\n",
       "Eu-152    27452.299490\n",
       "Co-60     17191.843702\n",
       "Am-241    36988.049397\n",
       "dtype: float64"
      ]
     },
     "execution_count": 9,
     "metadata": {},
     "output_type": "execute_result"
    }
   ],
   "source": [
    "activi.head()"
   ]
  },
  {
   "cell_type": "code",
   "execution_count": 10,
   "metadata": {},
   "outputs": [],
   "source": [
    "# determination of theoretical gamma counts for each source\n",
    "cs_t=actf[0]*0.8499\n",
    "eu_t=actf[1]*0.2831\n",
    "eu_t_1=actf[1]*0.0749\n",
    "eu_t_2=actf[1]*0.266\n",
    "co_t_1=actf[2]*0.9988\n",
    "co_t_2=actf[2]*1\n",
    "am_t=actf[3]*0.3592\n",
    "cuentas_t=[]\n",
    "cuentas_t.append(am_t)\n",
    "cuentas_t.append(eu_t)\n",
    "cuentas_t.append(eu_t_1)\n",
    "cuentas_t.append(eu_t_2)\n",
    "cuentas_t.append(cs_t)\n",
    "cuentas_t.append(co_t_1)\n",
    "cuentas_t.append(co_t_2)"
   ]
  },
  {
   "cell_type": "code",
   "execution_count": 11,
   "metadata": {},
   "outputs": [],
   "source": [
    "# determination of area below each photopeak\n",
    "areas=pd.DataFrame(columns=['Cs-137', 'Eu-152', 'Co-60 1.17 MeV', 'Co-60 1.33 MeV','Am-241'], index=range(3))\n",
    "a_cs137=[area(cs_e_n[i],Energy,2800,3600) for i in cs_e_n]\n",
    "a_eu152=[area(eu_e_n[i],Energy,150,300) for i in eu_e_n]\n",
    "a_eu152_1=[area(eu_e_n[i],Energy,1100,1300) for i in eu_e_n]\n",
    "a_eu152_2=[area(eu_e_n[i],Energy,1500,1900) for i in eu_e_n]\n",
    "a_co60_1=[area(co_e_n[i],Energy,5100,5800) for i in co_e_n]\n",
    "a_co60_2=[area(co_e_n[i],Energy,5800,6600) for i in co_e_n]\n",
    "a_am241=[area(am_e_n[i],Energy,250,400) for i in am_e_n]\n",
    "areas['Cs-137']= a_cs137\n",
    "areas['Eu-152']= a_eu152\n",
    "areas['Co-60 1.17 MeV']= a_co60_1\n",
    "areas['Co-60 1.33 MeV']= a_co60_2\n",
    "areas['Am-241']=a_am241"
   ]
  },
  {
   "cell_type": "code",
   "execution_count": 12,
   "metadata": {},
   "outputs": [
    {
     "data": {
      "text/html": [
       "<div>\n",
       "<style scoped>\n",
       "    .dataframe tbody tr th:only-of-type {\n",
       "        vertical-align: middle;\n",
       "    }\n",
       "\n",
       "    .dataframe tbody tr th {\n",
       "        vertical-align: top;\n",
       "    }\n",
       "\n",
       "    .dataframe thead th {\n",
       "        text-align: right;\n",
       "    }\n",
       "</style>\n",
       "<table border=\"1\" class=\"dataframe\">\n",
       "  <thead>\n",
       "    <tr style=\"text-align: right;\">\n",
       "      <th></th>\n",
       "      <th>Cs-137</th>\n",
       "      <th>Eu-152</th>\n",
       "      <th>Co-60 1.17 MeV</th>\n",
       "      <th>Co-60 1.33 MeV</th>\n",
       "      <th>Am-241</th>\n",
       "    </tr>\n",
       "  </thead>\n",
       "  <tbody>\n",
       "    <tr>\n",
       "      <th>0</th>\n",
       "      <td>0.044349</td>\n",
       "      <td>0.266320</td>\n",
       "      <td>0.061512</td>\n",
       "      <td>0.051224</td>\n",
       "      <td>0.232881</td>\n",
       "    </tr>\n",
       "    <tr>\n",
       "      <th>1</th>\n",
       "      <td>0.016729</td>\n",
       "      <td>0.096437</td>\n",
       "      <td>0.023968</td>\n",
       "      <td>0.019997</td>\n",
       "      <td>0.077336</td>\n",
       "    </tr>\n",
       "    <tr>\n",
       "      <th>2</th>\n",
       "      <td>0.008731</td>\n",
       "      <td>0.046975</td>\n",
       "      <td>0.012552</td>\n",
       "      <td>0.010509</td>\n",
       "      <td>0.037211</td>\n",
       "    </tr>\n",
       "  </tbody>\n",
       "</table>\n",
       "</div>"
      ],
      "text/plain": [
       "     Cs-137    Eu-152  Co-60 1.17 MeV  Co-60 1.33 MeV    Am-241\n",
       "0  0.044349  0.266320        0.061512        0.051224  0.232881\n",
       "1  0.016729  0.096437        0.023968        0.019997  0.077336\n",
       "2  0.008731  0.046975        0.012552        0.010509  0.037211"
      ]
     },
     "execution_count": 12,
     "metadata": {},
     "output_type": "execute_result"
    }
   ],
   "source": [
    "areas.head()"
   ]
  },
  {
   "cell_type": "code",
   "execution_count": 13,
   "metadata": {},
   "outputs": [],
   "source": [
    "# save in a matrix the theoretical counts\n",
    "cuentas_d=np.zeros((3,7))\n",
    "for i in range(3):\n",
    "    cuentas_d[i,0]=a_am241[i] #primera columna cuentas para el am-241\n",
    "    cuentas_d[i,1]=a_eu152[i] #primera columna cuentas para el eu-152\n",
    "    cuentas_d[i,2]=a_eu152_1[i] #primera columna cuentas para el eu-152\n",
    "    cuentas_d[i,3]=a_eu152_2[i] #primera columna cuentas para el eu-152\n",
    "    cuentas_d[i,4]=a_cs137[i] #primera columna cuentas para el cs137\n",
    "    cuentas_d[i,5]=a_co60_1[i] #primera columna cuentas para el co-60 1.17 MeV\n",
    "    cuentas_d[i,6]=a_co60_2[i] #primera columna cuentas para el co-60 1.3 MeV"
   ]
  },
  {
   "cell_type": "code",
   "execution_count": 14,
   "metadata": {},
   "outputs": [],
   "source": [
    "# create a matrix for efficiencies\n",
    "eficiencia=np.zeros((3,7))\n",
    "for j in range(len(cuentas_t)):\n",
    "    for i in range(cuentas_d.shape[0]):\n",
    "        eficiencia[i,j]=(cuentas_d[i,j]/cuentas_t[j])*100  \n",
    "# create a dataframe with efficiencies\n",
    "efi=pd.DataFrame(columns=(\"Am-241 59 keV\",\"Eu-152 121 keV\", \"Eu-152 244 keV\", \"Eu-152 344 keV\", \"Cs-137 662 keV\", \"Co-60 1.17 MeV\", \"Co-60 1.33 MeV\"))\n",
    "efi[\"Am-241 59 keV\"]=eficiencia[:,0]\n",
    "efi[\"Eu-152 121 keV\"]=eficiencia[:,1]\n",
    "efi[\"Eu-152 244 keV\"]=eficiencia[:,2]\n",
    "efi[\"Eu-152 344 keV\"]=eficiencia[:,3]\n",
    "efi[\"Cs-137 662 keV\"]=eficiencia[:,4]\n",
    "efi[\"Co-60 1.17 MeV\"]=eficiencia[:,5]\n",
    "efi[\"Co-60 1.33 MeV\"]=eficiencia[:,6]"
   ]
  },
  {
   "cell_type": "code",
   "execution_count": 15,
   "metadata": {},
   "outputs": [
    {
     "data": {
      "text/html": [
       "<div>\n",
       "<style scoped>\n",
       "    .dataframe tbody tr th:only-of-type {\n",
       "        vertical-align: middle;\n",
       "    }\n",
       "\n",
       "    .dataframe tbody tr th {\n",
       "        vertical-align: top;\n",
       "    }\n",
       "\n",
       "    .dataframe thead th {\n",
       "        text-align: right;\n",
       "    }\n",
       "</style>\n",
       "<table border=\"1\" class=\"dataframe\">\n",
       "  <thead>\n",
       "    <tr style=\"text-align: right;\">\n",
       "      <th></th>\n",
       "      <th>Am-241 59 keV</th>\n",
       "      <th>Eu-152 121 keV</th>\n",
       "      <th>Eu-152 244 keV</th>\n",
       "      <th>Eu-152 344 keV</th>\n",
       "      <th>Cs-137 662 keV</th>\n",
       "      <th>Co-60 1.17 MeV</th>\n",
       "      <th>Co-60 1.33 MeV</th>\n",
       "    </tr>\n",
       "  </thead>\n",
       "  <tbody>\n",
       "    <tr>\n",
       "      <th>0</th>\n",
       "      <td>0.001753</td>\n",
       "      <td>0.003427</td>\n",
       "      <td>0.001639</td>\n",
       "      <td>0.001263</td>\n",
       "      <td>0.000646</td>\n",
       "      <td>0.000358</td>\n",
       "      <td>0.000298</td>\n",
       "    </tr>\n",
       "    <tr>\n",
       "      <th>1</th>\n",
       "      <td>0.000582</td>\n",
       "      <td>0.001241</td>\n",
       "      <td>0.000673</td>\n",
       "      <td>0.000473</td>\n",
       "      <td>0.000244</td>\n",
       "      <td>0.000140</td>\n",
       "      <td>0.000116</td>\n",
       "    </tr>\n",
       "    <tr>\n",
       "      <th>2</th>\n",
       "      <td>0.000280</td>\n",
       "      <td>0.000604</td>\n",
       "      <td>0.000359</td>\n",
       "      <td>0.000242</td>\n",
       "      <td>0.000127</td>\n",
       "      <td>0.000073</td>\n",
       "      <td>0.000061</td>\n",
       "    </tr>\n",
       "  </tbody>\n",
       "</table>\n",
       "</div>"
      ],
      "text/plain": [
       "   Am-241 59 keV  Eu-152 121 keV  Eu-152 244 keV  Eu-152 344 keV  \\\n",
       "0       0.001753        0.003427        0.001639        0.001263   \n",
       "1       0.000582        0.001241        0.000673        0.000473   \n",
       "2       0.000280        0.000604        0.000359        0.000242   \n",
       "\n",
       "   Cs-137 662 keV  Co-60 1.17 MeV  Co-60 1.33 MeV  \n",
       "0        0.000646        0.000358        0.000298  \n",
       "1        0.000244        0.000140        0.000116  \n",
       "2        0.000127        0.000073        0.000061  "
      ]
     },
     "execution_count": 15,
     "metadata": {},
     "output_type": "execute_result"
    }
   ],
   "source": [
    "efi.head()"
   ]
  },
  {
   "cell_type": "code",
   "execution_count": 16,
   "metadata": {},
   "outputs": [
    {
     "data": {
      "image/png": "[encoded data removed]",
      "text/plain": [
       "<Figure size 432x432 with 1 Axes>"
      ]
     },
     "metadata": {
      "needs_background": "light"
     },
     "output_type": "display_data"
    }
   ],
   "source": [
    "# plot FEPE vs energy\n",
    "import matplotlib.ticker as mtick\n",
    "e_cab=[59.5, 121.78,244.69,344.28,662, 1173, 1332]\n",
    "fig1=plt.figure(figsize=(6,6))\n",
    "ax1=plt.axes()\n",
    "ax1.plot(e_cab,eficiencia[2,:],'o-b', label='15cm')\n",
    "ax1.plot(e_cab,eficiencia[1,:],'o-r', label='10cm')\n",
    "ax1.plot(e_cab,eficiencia[0,:],'o-g', label='5cm')\n",
    "plt.legend()\n",
    "ax1.set_ylabel(\"FEPE (%)\")\n",
    "ax1.set_xlabel(\"Energy $(keV)$\")\n",
    "ax1.yaxis.set_major_formatter(mtick.FormatStrFormatter('%.e'))\n",
    "#plt.title(\"Curva de calibración de eficiencias\")\n",
    "ax1.grid()"
   ]
  },
  {
   "cell_type": "code",
   "execution_count": 17,
   "metadata": {},
   "outputs": [],
   "source": [
    "# load simulated data\n",
    "# cesium\n",
    "cs_s={'5cm':np.loadtxt('./NaI_2/'+'./cs/'+'NaIDetector_cs1.dat'),\n",
    "      '10cm':np.loadtxt('./NaI_2/'+'./cs/'+'NaIDetector_cs2.dat'),\n",
    "      '15cm':np.loadtxt('./NaI_2/'+'./cs/'+'NaIDetector_cs3.dat')}\n",
    "# cobalt\n",
    "co_s={'5cm':np.loadtxt('./NaI_2/'+'./co/'+'NaIDetector_co1.dat'),\n",
    "      '10cm':np.loadtxt('./NaI_2/'+'./co/'+'NaIDetector_co2.dat'),\n",
    "      '15cm':np.loadtxt('./NaI_2/'+'./co/'+'NaIDetector_co3.dat')}\n",
    "# americium\n",
    "am_s={'5cm':np.loadtxt('./NaI_2/'+'./am/'+'NaIDetector_am1.dat'),\n",
    "      '10cm':np.loadtxt('./NaI_2/'+'./am/'+'NaIDetector_am2.dat'),\n",
    "      '15cm':np.loadtxt('./NaI_2/'+'./am/'+'NaIDetector_am3.dat')}\n",
    "#europium\n",
    "eu_s={'5cm':np.loadtxt('./NaI_2/'+'./eu/'+'NaIDetector_eu1.dat'),\n",
    "      '10cm':np.loadtxt('./NaI_2/'+'./eu/'+'NaIDetector_eu2.dat'),\n",
    "      '15cm':np.loadtxt('./NaI_2/'+'./eu/'+'NaIDetector_eu3.dat')}"
   ]
  },
  {
   "cell_type": "code",
   "execution_count": 18,
   "metadata": {},
   "outputs": [],
   "source": [
    "#transfor data into histograms\n",
    "for i in cs_s:\n",
    "    cs_s[i]=np.histogram(cs_s[i],bins=1500)\n",
    "    co_s[i]=np.histogram(co_s[i],bins=1500)\n",
    "    am_s[i]=np.histogram(am_s[i],bins=1500)\n",
    "    eu_s[i]=np.histogram(eu_s[i],bins=1500)"
   ]
  },
  {
   "cell_type": "code",
   "execution_count": 19,
   "metadata": {},
   "outputs": [
    {
     "ename": "KeyboardInterrupt",
     "evalue": "",
     "output_type": "error",
     "traceback": [
      "\u001b[1;31m---------------------------------------------------------------------------\u001b[0m",
      "\u001b[1;31mKeyboardInterrupt\u001b[0m                         Traceback (most recent call last)",
      "\u001b[1;32m<ipython-input-19-0a9c8821d1c7>\u001b[0m in \u001b[0;36m<module>\u001b[1;34m\u001b[0m\n\u001b[0;32m      9\u001b[0m     \u001b[0mco_s_r\u001b[0m\u001b[1;33m[\u001b[0m\u001b[0mkey\u001b[0m\u001b[1;33m]\u001b[0m\u001b[1;33m=\u001b[0m\u001b[0mspectrum\u001b[0m\u001b[1;33m(\u001b[0m\u001b[0mco_s\u001b[0m\u001b[1;33m[\u001b[0m\u001b[0mkey\u001b[0m\u001b[1;33m]\u001b[0m\u001b[1;33m[\u001b[0m\u001b[1;36m1\u001b[0m\u001b[1;33m]\u001b[0m\u001b[1;33m,\u001b[0m \u001b[0mco_s\u001b[0m\u001b[1;33m[\u001b[0m\u001b[0mkey\u001b[0m\u001b[1;33m]\u001b[0m\u001b[1;33m[\u001b[0m\u001b[1;36m0\u001b[0m\u001b[1;33m]\u001b[0m\u001b[1;33m,\u001b[0m \u001b[1;36m0.032\u001b[0m\u001b[1;33m)\u001b[0m\u001b[1;33m\u001b[0m\u001b[1;33m\u001b[0m\u001b[0m\n\u001b[0;32m     10\u001b[0m     \u001b[0meu_s_r\u001b[0m\u001b[1;33m[\u001b[0m\u001b[0mkey\u001b[0m\u001b[1;33m]\u001b[0m\u001b[1;33m=\u001b[0m\u001b[0mspectrum\u001b[0m\u001b[1;33m(\u001b[0m\u001b[0meu_s\u001b[0m\u001b[1;33m[\u001b[0m\u001b[0mkey\u001b[0m\u001b[1;33m]\u001b[0m\u001b[1;33m[\u001b[0m\u001b[1;36m1\u001b[0m\u001b[1;33m]\u001b[0m\u001b[1;33m,\u001b[0m \u001b[0meu_s\u001b[0m\u001b[1;33m[\u001b[0m\u001b[0mkey\u001b[0m\u001b[1;33m]\u001b[0m\u001b[1;33m[\u001b[0m\u001b[1;36m0\u001b[0m\u001b[1;33m]\u001b[0m\u001b[1;33m,\u001b[0m \u001b[1;36m0.02\u001b[0m\u001b[1;33m)\u001b[0m\u001b[1;33m\u001b[0m\u001b[1;33m\u001b[0m\u001b[0m\n\u001b[1;32m---> 11\u001b[1;33m     \u001b[0mam_s_r\u001b[0m\u001b[1;33m[\u001b[0m\u001b[0mkey\u001b[0m\u001b[1;33m]\u001b[0m\u001b[1;33m=\u001b[0m\u001b[0mspectrum\u001b[0m\u001b[1;33m(\u001b[0m\u001b[0mam_s\u001b[0m\u001b[1;33m[\u001b[0m\u001b[0mkey\u001b[0m\u001b[1;33m]\u001b[0m\u001b[1;33m[\u001b[0m\u001b[1;36m1\u001b[0m\u001b[1;33m]\u001b[0m\u001b[1;33m,\u001b[0m \u001b[0mam_s\u001b[0m\u001b[1;33m[\u001b[0m\u001b[0mkey\u001b[0m\u001b[1;33m]\u001b[0m\u001b[1;33m[\u001b[0m\u001b[1;36m0\u001b[0m\u001b[1;33m]\u001b[0m\u001b[1;33m,\u001b[0m \u001b[1;36m0.005\u001b[0m\u001b[1;33m)\u001b[0m\u001b[1;33m\u001b[0m\u001b[1;33m\u001b[0m\u001b[0m\n\u001b[0m",
      "\u001b[1;32mC:\\Universidad\\PASANTIAS NUCLEAR\\NaI_detector\\data_treatment3\\d_funciones.py\u001b[0m in \u001b[0;36mspectrum\u001b[1;34m(E, osc, sigma)\u001b[0m\n\u001b[0;32m     80\u001b[0m         \u001b[0mtot\u001b[0m\u001b[1;33m=\u001b[0m\u001b[1;36m0\u001b[0m\u001b[1;33m\u001b[0m\u001b[1;33m\u001b[0m\u001b[0m\n\u001b[0;32m     81\u001b[0m         \u001b[1;32mfor\u001b[0m \u001b[0mEj\u001b[0m\u001b[1;33m,\u001b[0m\u001b[0mos\u001b[0m \u001b[1;32min\u001b[0m \u001b[0mzip\u001b[0m\u001b[1;33m(\u001b[0m\u001b[0mE\u001b[0m\u001b[1;33m,\u001b[0m\u001b[0mosc\u001b[0m\u001b[1;33m)\u001b[0m\u001b[1;33m:\u001b[0m\u001b[1;33m\u001b[0m\u001b[1;33m\u001b[0m\u001b[0m\n\u001b[1;32m---> 82\u001b[1;33m             \u001b[0mtot\u001b[0m\u001b[1;33m+=\u001b[0m\u001b[0mos\u001b[0m\u001b[1;33m*\u001b[0m\u001b[0mnp\u001b[0m\u001b[1;33m.\u001b[0m\u001b[0mexp\u001b[0m\u001b[1;33m(\u001b[0m\u001b[1;33m-\u001b[0m\u001b[1;33m(\u001b[0m\u001b[1;33m(\u001b[0m\u001b[1;33m(\u001b[0m\u001b[1;33m(\u001b[0m\u001b[0mEj\u001b[0m\u001b[1;33m-\u001b[0m\u001b[0mEi\u001b[0m\u001b[1;33m)\u001b[0m\u001b[1;33m/\u001b[0m\u001b[0msigma\u001b[0m\u001b[1;33m)\u001b[0m\u001b[1;33m**\u001b[0m\u001b[1;36m2\u001b[0m\u001b[1;33m)\u001b[0m\u001b[1;33m)\u001b[0m\u001b[1;33m)\u001b[0m\u001b[1;33m\u001b[0m\u001b[1;33m\u001b[0m\u001b[0m\n\u001b[0m\u001b[0;32m     83\u001b[0m         \u001b[0mgE\u001b[0m\u001b[1;33m.\u001b[0m\u001b[0mappend\u001b[0m\u001b[1;33m(\u001b[0m\u001b[0mtot\u001b[0m\u001b[1;33m)\u001b[0m\u001b[1;33m\u001b[0m\u001b[1;33m\u001b[0m\u001b[0m\n\u001b[0;32m     84\u001b[0m     \u001b[0mx\u001b[0m\u001b[1;33m=\u001b[0m\u001b[0mx\u001b[0m\u001b[1;33m[\u001b[0m\u001b[1;36m0\u001b[0m\u001b[1;33m:\u001b[0m\u001b[1;36m1500\u001b[0m\u001b[1;33m]\u001b[0m\u001b[1;33m\u001b[0m\u001b[1;33m\u001b[0m\u001b[0m\n",
      "\u001b[1;31mKeyboardInterrupt\u001b[0m: "
     ]
    }
   ],
   "source": [
    "# add resoluction to simulated data\n",
    "#cesium\n",
    "cs_s_r={'5cm':0, '10cm':0, '15cm':0}\n",
    "co_s_r={'5cm':0, '10cm':0, '15cm':0}\n",
    "am_s_r={'5cm':0, '10cm':0, '15cm':0}\n",
    "eu_s_r={'5cm':0, '10cm':0, '15cm':0}\n",
    "for key in cs_s_r:\n",
    "    cs_s_r[key]=spectrum(cs_s[key][1], cs_s[key][0], 0.026)\n",
    "    co_s_r[key]=spectrum(co_s[key][1], co_s[key][0], 0.032)\n",
    "    eu_s_r[key]=spectrum(eu_s[key][1], eu_s[key][0], 0.02)\n",
    "    am_s_r[key]=spectrum(am_s[key][1], am_s[key][0], 0.005)"
   ]
  },
  {
   "cell_type": "code",
   "execution_count": null,
   "metadata": {},
   "outputs": [],
   "source": [
    "# determination of time in simulation to get coun rate spectrum\n",
    "t_simulacion = lambda p, actividad: p/actividad\n",
    "# define a new spectrum\n",
    "cs_s_r1={'5cm':cs_s_r['5cm'][1] , '10cm':cs_s_r['10cm'][1] , '15cm':cs_s_r['15cm'][1]}\n",
    "co_s_r1={'5cm':co_s_r['5cm'][1] , '10cm':co_s_r['10cm'][1] , '15cm':co_s_r['15cm'][1]}\n",
    "eu_s_r1={'5cm':eu_s_r['5cm'][1] , '10cm':eu_s_r['10cm'][1] , '15cm':eu_s_r['15cm'][1]}\n",
    "am_s_r1={'5cm':am_s_r['5cm'][1] , '10cm':am_s_r['10cm'][1] , '15cm':am_s_r['15cm'][1]}\n",
    "# scale simulated spectra acording the activity of each radioative source\n",
    "for i in cs_s_r1:\n",
    "    cs_s_r1[i]=cs_s_r1[i]/t_simulacion(1e6,activi.iloc[0])\n",
    "    eu_s_r1[i]=eu_s_r1[i]/t_simulacion(1e6,activi.iloc[1]*0.2831)\n",
    "    co_s_r1[i]=co_s_r1[i]/t_simulacion(1e6,activi.iloc[2])\n",
    "    am_s_r1[i]=am_s_r1[i]/t_simulacion(1e6,activi.iloc[3]*0.357)"
   ]
  },
  {
   "cell_type": "code",
   "execution_count": null,
   "metadata": {},
   "outputs": [],
   "source": [
    "# determination of correction factor\n",
    "from d_funciones import f_correcion\n",
    "b_cs=f_correcion(cs_e_n, cs_s_r1, 'Cs')\n",
    "b_eu=f_correcion(eu_e_n, eu_s_r1, 'Eu')\n",
    "b_co=f_correcion(co_e_n, co_s_r1, 'Co')\n",
    "b_am=f_correcion(am_e_n, am_s_r1, 'Am')"
   ]
  },
  {
   "cell_type": "code",
   "execution_count": null,
   "metadata": {},
   "outputs": [],
   "source": []
  },
  {
   "cell_type": "code",
   "execution_count": null,
   "metadata": {},
   "outputs": [],
   "source": []
  }
 ],
 "metadata": {
  "kernelspec": {
   "display_name": "Python 3",
   "language": "python",
   "name": "python3"
  },
  "language_info": {
   "codemirror_mode": {
    "name": "ipython",
    "version": 3
   },
   "file_extension": ".py",
   "mimetype": "text/x-python",
   "name": "python",
   "nbconvert_exporter": "python",
   "pygments_lexer": "ipython3",
   "version": "3.8.5"
  }
 },
 "nbformat": 4,
 "nbformat_minor": 4
}
